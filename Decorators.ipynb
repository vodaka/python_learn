{
 "cells": [
  {
   "cell_type": "markdown",
   "metadata": {},
   "source": [
    "# Decorator"
   ]
  },
  {
   "cell_type": "markdown",
   "metadata": {},
   "source": [
    "简单地说：decorator是修改其他函数的功能的函数，有助于让代码更简短，更Pythonic。"
   ]
  },
  {
   "cell_type": "markdown",
   "metadata": {},
   "source": [
    "## 一切皆对象"
   ]
  },
  {
   "cell_type": "markdown",
   "metadata": {},
   "source": [
    "函数是一等公民，可以将函数赋给一个变量。新的变量对函数建立了引用(指向)。"
   ]
  },
  {
   "cell_type": "code",
   "execution_count": null,
   "metadata": {},
   "outputs": [],
   "source": [
    "def hi(name=\"yasoob\"):\n",
    "    return \"hi\" + name\n",
    "\n",
    "print(hi())  # outputs: 'hi yasoob'\n",
    "\n",
    "greet = hi  # 这里没有使用小括号，因为并不是在调用hi函数\n",
    "print(greet())\n",
    "\n",
    "del hi  # 如果删掉hi函数，会发生什么\n",
    "\n",
    "print(hi())  # outputs: NameError\n",
    "print(greet())  # outputs: 'hi yasoob'\n"
   ]
  },
  {
   "cell_type": "markdown",
   "metadata": {},
   "source": [
    "## 在函数中可以定义函数"
   ]
  },
  {
   "cell_type": "code",
   "execution_count": null,
   "metadata": {},
   "outputs": [],
   "source": [
    "def hi(name=\"yasoob\"):\n",
    "    print(\"now you are inside the hi() function\")\n",
    "    \n",
    "    def greet():\n",
    "        return \"now you are in the greet() function\"\n",
    "    \n",
    "    def welcome():\n",
    "        return \"now you are in the welcome() function\"\n",
    "    \n",
    "    print(greet())\n",
    "    print(welcome())\n",
    "    print(\"now you are back in the hi() function\")\n",
    "    "
   ]
  },
  {
   "cell_type": "markdown",
   "metadata": {},
   "source": [
    "上面的代码展示了无论何时调用hi(),greet()和welcome()将会同时被调用。greet()和welcome()函数在hi()函数外是不能访问的，如直接调用：\n",
    "\n",
    "greet()  # outputs: NameError: name 'greet' is not defined"
   ]
  },
  {
   "cell_type": "markdown",
   "metadata": {},
   "source": [
    "## 从函数中返回函数\n",
    "\n",
    "其实并不需要在一个函数里去执行另一个函数，也可以将其作为输出返回出来："
   ]
  },
  {
   "cell_type": "code",
   "execution_count": null,
   "metadata": {},
   "outputs": [],
   "source": [
    "def hi(name=\"yasoob\"):\n",
    "    def greet():\n",
    "        return \"now you are in the greet() function\"\n",
    "    \n",
    "    def welcome():\n",
    "        return \"now you are in the welcome() function\"\n",
    "    \n",
    "    if name == \"yasoob\":\n",
    "        return greet\n",
    "    else:\n",
    "        return welcome\n",
    "    \n",
    "a = hi()\n",
    "print(a)\n",
    "# outputs: <function greet at 0x7f2143c01500>\n",
    "# 上面的代码展示了`a`现在指向到hi()函数中的greet()函数\n",
    "\n",
    "print(a())\n",
    "# outputs: now you are in the greet() function\n",
    "\n",
    "# 注意：在if/else语句中我们返回greet和welcome，而不是greet()和welcome().为什么是那样？因为当你把小括号放在函数名后面，这个函数就会执行；\n",
    "# 然而，如果你不放括号在它后面，那它可以被到处传递，并且可以复制给别的变量而不去执行它。\n",
    "    "
   ]
  },
  {
   "cell_type": "markdown",
   "metadata": {},
   "source": [
    "## 将函数作为参数传给另一个函数"
   ]
  },
  {
   "cell_type": "code",
   "execution_count": null,
   "metadata": {},
   "outputs": [],
   "source": [
    "def hi():\n",
    "    return \"hi yasoob!\"\n",
    "\n",
    "def doSomethingBeforeHi(func):\n",
    "    print(\"I am doing some boring work before executing hi()\")\n",
    "    print(func())\n",
    "    \n",
    "    \n",
    "doSomethingBeforeHi(hi)"
   ]
  },
  {
   "cell_type": "markdown",
   "metadata": {},
   "source": [
    "## 第一个装饰器"
   ]
  },
  {
   "cell_type": "code",
   "execution_count": null,
   "metadata": {},
   "outputs": [],
   "source": [
    "def a_new_decorator(a_func):\n",
    "    \n",
    "    def wrapTheFunction():\n",
    "        print(\"I am doing some boring work before executing a_func()\")\n",
    "        a_func()\n",
    "        print(\"I am doing some boring work after executing a_func()\")\n",
    "        \n",
    "    return wrapTheFunction\n",
    "\n",
    "\n",
    "def a_func_requiring_decoration():\n",
    "    print(\"I am the function which needs some decoration to remove my work\")\n",
    "    \n",
    "a_func_requiring_decoration = a_new_decorator(a_func_requiring_decoration)\n",
    "a_func_requiring_decoration()"
   ]
  },
  {
   "cell_type": "code",
   "execution_count": null,
   "metadata": {},
   "outputs": [],
   "source": [
    "from functools import wraps\n",
    "\n",
    "def decorator_name(f):\n",
    "    @wraps(f)\n",
    "    def decorated(*args, **kwargs):\n",
    "        if not can_run:\n",
    "            return \"Function will not run\"\n",
    "        return f(*args, **kwargs)\n",
    "    return decorated\n",
    "\n",
    "@decorator_name\n",
    "def func():\n",
    "    return(\"Function is running\")\n",
    "\n",
    "can_run = True\n",
    "print(func())\n",
    "can_run = False\n",
    "print(func())"
   ]
  },
  {
   "cell_type": "markdown",
   "metadata": {},
   "source": [
    "## 使用场景\n",
    "\n",
    "    - 授权\n",
    "    - 日志"
   ]
  },
  {
   "cell_type": "markdown",
   "metadata": {},
   "source": [
    "### 1 授权Authorization\n",
    "\n",
    "装饰器能有助于检查某个人是否被授权去使用一个web应用的端点(endpoint)。他们被大量用于Flask和Django Web框架中。下面是一个例子来使用基于\n",
    "装饰器的授权："
   ]
  },
  {
   "cell_type": "code",
   "execution_count": null,
   "metadata": {},
   "outputs": [],
   "source": [
    "from functools import wraps\n",
    "\n",
    "def requires_auth(f):\n",
    "    @wraps(f)\n",
    "    def decorated(*args, **kwargs):\n",
    "        auth = request.authoriztion\n",
    "        if not auth or not chech_auth(auth.username, auth.password):\n",
    "            authenticate()\n",
    "        return f(*args, **kwargs)\n",
    "    return decorated\n"
   ]
  },
  {
   "cell_type": "markdown",
   "metadata": {},
   "source": [
    "### 2 日志Logging\n",
    "\n",
    "日志是装饰器运用的另一个亮点："
   ]
  },
  {
   "cell_type": "code",
   "execution_count": null,
   "metadata": {},
   "outputs": [],
   "source": [
    "from functools import wraps\n",
    "\n",
    "def logit(func):\n",
    "    @wraps(func)\n",
    "    def with_logging(*args, **kwargs):\n",
    "        print(func.__name__ + \"was called\")\n",
    "        return func(*args, **kwargs)\n",
    "    return logit\n",
    "\n",
    "@logit\n",
    "def addition_func(x):\n",
    "    \"\"\"Do some math.\"\"\"\n",
    "    return x + x\n",
    "\n",
    "result = addition_func(4)"
   ]
  },
  {
   "cell_type": "markdown",
   "metadata": {},
   "source": [
    "## 带参数的装饰器\n",
    "\n",
    "### 在函数中嵌入装饰\n",
    "\n",
    "我们回到日志的例子，并创建一个包裹函数，能让我们指定一个用于输出的日志文件。"
   ]
  },
  {
   "cell_type": "code",
   "execution_count": null,
   "metadata": {},
   "outputs": [],
   "source": [
    "from functools import wraps\n",
    "\n",
    "def logit(logfile='out.log'):\n",
    "    def logging_decorator(func):\n",
    "        @wraps(func)\n",
    "        def wrapped_function(*args, **kwargs):\n",
    "            log_string = func.__name__ + \"was called\"\n",
    "            print(log_string)\n",
    "            # 打开logfile，并写入内容\n",
    "            with open(logfile, 'a') as opened_file:\n",
    "                # 现在将日志打到指定的logfile\n",
    "                opened_file.write(log_string + '\\n')\n",
    "            return func(*args, **kwargs)\n",
    "        return wrapped_function\n",
    "    return logging_decorator\n",
    "\n",
    "@logit()\n",
    "def myfunc1():\n",
    "    pass\n",
    "\n",
    "myfunc1()\n",
    "# Output: myfunc1 was called\n",
    "# 现在一个叫做 out.log 的文件出现了,里面的内容就是上面的字符串\n",
    "\n",
    "@logit(logfile='func2.log')\n",
    "def myfunc2():\n",
    "    pass\n",
    "\n",
    "myfunc2()\n",
    "# Output: myfunc2 was called\n",
    "# 现在一个叫做 func2.log 的文件出现了,里面的内容就是上面的字符串\n"
   ]
  },
  {
   "cell_type": "markdown",
   "metadata": {},
   "source": [
    "### 装饰器类\n",
    "\n",
    "现在我们有了能用于正式环境的logit装饰器，但当我们的应用的某些部分还比较脆弱时，异常也许是需要更紧急关注的事情。比方说有时你指想打日志到\n",
    "一个文件。而有事你向把引起你注意的问题发送到一个email，同时也保留日志，留个记录。这是一个使用继承的场景，但目前为止我们只看到过用来构建\n",
    "装饰器的函数。\n",
    "幸运的是，类也可以用来构建装饰器。那我们现在以一个类而不是一个函数的方式，来重新构建logit."
   ]
  },
  {
   "cell_type": "code",
   "execution_count": null,
   "metadata": {},
   "outputs": [],
   "source": [
    "from functools import wraps\n",
    "\n",
    "class logit(object):\n",
    "    def __init__(self, logfile='out.log'):\n",
    "        self.logfile = logfile\n",
    "        \n",
    "    def __call__(self, func):\n",
    "        @wraps(func)\n",
    "        def wrapped_function(*args, **kwargs):\n",
    "            log_string = func.__name__ + \"was called\"\n",
    "            print(log_string)\n",
    "            # 打开logfile并写入\n",
    "            with open(self.logfile, 'a') as opened_file:\n",
    "                # 现在将日志打到指定的文件\n",
    "                opened_file.write(log_string + '\\n')\n",
    "            # 现在，发送一个通知\n",
    "            self.notify()\n",
    "            return func(*args, **kwargs)\n",
    "        return wrapped_function\n",
    "    \n",
    "    def notify(self):\n",
    "        # logit只打日志，不做别的\n",
    "        pass\n",
    "\n",
    "# 这个实现有一个附加优势，在于比嵌套函数的方式更加整洁，而且包裹一个函数还是使用跟以前一样的语法：\n",
    "\n",
    "@logit()\n",
    "def myfunc1():\n",
    "    pass\n",
    "\n",
    "# 现在，我们给logit创建子类，来添加email的功能(虽然email这个话题不会在这里展开)。\n",
    "\n",
    "class email_logit(logit):\n",
    "    '''\n",
    "    一个logit的实现版本，可以在函数调用时发送email给管理员\n",
    "    '''\n",
    "    def __init__(self, email='admin@myproject.com', *args, **kwargs):\n",
    "        self.email = email\n",
    "        super(email_logit, self).__init__(*args, **kwargs)\n",
    "        \n",
    "    def notify(self):\n",
    "        # 发送一封email到self.email\n",
    "        # 这里就不坐实现了\n",
    "        pass\n",
    "    \n",
    "# 从现在其，@email_logit将会和@logit产生同样的效果，但是在打日志的基础上，还会多发送一封邮件给管理员。"
   ]
  }
 ],
 "metadata": {
  "kernelspec": {
   "display_name": "Python 3",
   "language": "python",
   "name": "python3"
  },
  "language_info": {
   "codemirror_mode": {
    "name": "ipython",
    "version": 3
   },
   "file_extension": ".py",
   "mimetype": "text/x-python",
   "name": "python",
   "nbconvert_exporter": "python",
   "pygments_lexer": "ipython3",
   "version": "3.6.5"
  }
 },
 "nbformat": 4,
 "nbformat_minor": 2
}
